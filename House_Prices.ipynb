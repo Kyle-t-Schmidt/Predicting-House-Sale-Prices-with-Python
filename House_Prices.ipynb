{
 "cells": [
  {
   "cell_type": "markdown",
   "metadata": {},
   "source": [
    "# Predicting House Sale Prices with Python\n",
    "Kyle Schmidt\n",
    "December 2019\n",
    "\n",
    "## 1. Introduction\n",
    "The [House Prices: Advanced Regression Techniques](https://www.kaggle.com/c/house-prices-advanced-regression-techniques) Kaggle competition provides a data set with 79 variables describing houses sold in Ames, Iowa. Sale prices are provided for half of the data to train a regression algorithm and sale prices are withheld on the other half for testing. After creating an algorithm and predicitng the house sale prices on the test data set, submissions are stored in csv format, uploaded to kaggle and scored with the root mean square error (rmse). The methods and processes in this Jupyter notebook resulted in a rmse score of 0.12402 placing me in the top 8% of all submissions.\n",
    "\n",
    "My approach to the problem starts with exploring the data to get a better understanding of the size and types af variables I'm working with and to look for any potential problems with the data. After better understanding the data I move into pre-processing where I address issues with the data and prep the data for modeling. Once pre-processing is complete I use a stack of Ridge, Lasso, Elastic Net, XGBoost and Light Gradient Boosting regression techniques to maximize performance without overfitting.\n",
    "\n",
    "## 2. Data Exploration\n",
    "Data exploration is an important in the process of writing a regression algorithm. Understanding the data and the types of data you will be working with helps identify potential problems, issues and opportunities within the data.\n",
    "\n",
    "### 2.1 Loading the required packages and importing the data\n",
    "Before starting work on this data set I need to import data and packages into my workspace. Much of the work will be done using Pandas and Numpy with the help of several tools from sklearn.\n"
   ]
  },
  {
   "cell_type": "code",
   "execution_count": 1,
   "metadata": {},
   "outputs": [],
   "source": [
    "# Import necessary packages\n",
    "import pandas as pd\n",
    "pd.options.mode.chained_assignment = None\n",
    "import numpy as np\n",
    "import scipy.stats as stats\n",
    "import matplotlib.pyplot as plt\n",
    "from sklearn.model_selection import train_test_split\n",
    "from sklearn.preprocessing import StandardScaler\n",
    "from sklearn.metrics import mean_squared_error\n",
    "from sklearn.model_selection import KFold\n",
    "from sklearn.model_selection import cross_val_score\n",
    "from sklearn.pipeline import make_pipeline\n",
    "from sklearn.linear_model import ElasticNetCV\n",
    "from sklearn.linear_model import LassoCV\n",
    "from sklearn.linear_model import RidgeCV\n",
    "from xgboost import XGBRegressor\n",
    "from lightgbm import LGBMRegressor\n",
    "from mlxtend.regressor import StackingCVRegressor\n",
    "import warnings\n",
    "warnings.filterwarnings(\"ignore\")\n",
    "pd.options.mode.chained_assignment = None\n",
    "\n",
    "\n",
    "# Load the data. Make sure to update the file paths to where you stored the data,\n",
    "train = pd.read_csv('.../train.csv', delimiter=',')\n",
    "test = pd.read_csv('.../test.csv', delimiter=',')\n"
   ]
  },
  {
   "cell_type": "markdown",
   "metadata": {},
   "source": [
    "### 2.2 Exploration\n",
    "I'll begin by looking at the amount of data, types of data and a smalle sample of each table (train and test).\n"
   ]
  },
  {
   "cell_type": "code",
   "execution_count": 2,
   "metadata": {},
   "outputs": [
    {
     "name": "stdout",
     "output_type": "stream",
     "text": [
      "Train data shape:\n",
      "(1460, 81)\n",
      "---\n",
      "Test data shape:\n",
      "(1459, 80)\n",
      "\n",
      "Train data types:\n",
      "Id                 int64\n",
      "MSSubClass         int64\n",
      "MSZoning          object\n",
      "LotFrontage      float64\n",
      "LotArea            int64\n",
      "                  ...   \n",
      "MoSold             int64\n",
      "YrSold             int64\n",
      "SaleType          object\n",
      "SaleCondition     object\n",
      "SalePrice          int64\n",
      "Length: 81, dtype: object\n",
      "---\n",
      "Test data types:\n",
      "Id                 int64\n",
      "MSSubClass         int64\n",
      "MSZoning          object\n",
      "LotFrontage      float64\n",
      "LotArea            int64\n",
      "                  ...   \n",
      "MiscVal            int64\n",
      "MoSold             int64\n",
      "YrSold             int64\n",
      "SaleType          object\n",
      "SaleCondition     object\n",
      "Length: 80, dtype: object\n",
      "\n",
      "Train data sample:\n",
      "   Id  MSSubClass MSZoning  LotFrontage  LotArea Street Alley LotShape  \\\n",
      "0   1          60       RL         65.0     8450   Pave   NaN      Reg   \n",
      "1   2          20       RL         80.0     9600   Pave   NaN      Reg   \n",
      "2   3          60       RL         68.0    11250   Pave   NaN      IR1   \n",
      "3   4          70       RL         60.0     9550   Pave   NaN      IR1   \n",
      "4   5          60       RL         84.0    14260   Pave   NaN      IR1   \n",
      "\n",
      "  LandContour Utilities  ... PoolArea PoolQC Fence MiscFeature MiscVal MoSold  \\\n",
      "0         Lvl    AllPub  ...        0    NaN   NaN         NaN       0      2   \n",
      "1         Lvl    AllPub  ...        0    NaN   NaN         NaN       0      5   \n",
      "2         Lvl    AllPub  ...        0    NaN   NaN         NaN       0      9   \n",
      "3         Lvl    AllPub  ...        0    NaN   NaN         NaN       0      2   \n",
      "4         Lvl    AllPub  ...        0    NaN   NaN         NaN       0     12   \n",
      "\n",
      "  YrSold  SaleType  SaleCondition  SalePrice  \n",
      "0   2008        WD         Normal     208500  \n",
      "1   2007        WD         Normal     181500  \n",
      "2   2008        WD         Normal     223500  \n",
      "3   2006        WD        Abnorml     140000  \n",
      "4   2008        WD         Normal     250000  \n",
      "\n",
      "[5 rows x 81 columns]\n",
      "---\n",
      "Test data sample:\n",
      "     Id  MSSubClass MSZoning  LotFrontage  LotArea Street Alley LotShape  \\\n",
      "0  1461          20       RH         80.0    11622   Pave   NaN      Reg   \n",
      "1  1462          20       RL         81.0    14267   Pave   NaN      IR1   \n",
      "2  1463          60       RL         74.0    13830   Pave   NaN      IR1   \n",
      "3  1464          60       RL         78.0     9978   Pave   NaN      IR1   \n",
      "4  1465         120       RL         43.0     5005   Pave   NaN      IR1   \n",
      "\n",
      "  LandContour Utilities  ... ScreenPorch PoolArea PoolQC  Fence MiscFeature  \\\n",
      "0         Lvl    AllPub  ...         120        0    NaN  MnPrv         NaN   \n",
      "1         Lvl    AllPub  ...           0        0    NaN    NaN        Gar2   \n",
      "2         Lvl    AllPub  ...           0        0    NaN  MnPrv         NaN   \n",
      "3         Lvl    AllPub  ...           0        0    NaN    NaN         NaN   \n",
      "4         HLS    AllPub  ...         144        0    NaN    NaN         NaN   \n",
      "\n",
      "  MiscVal MoSold  YrSold  SaleType  SaleCondition  \n",
      "0       0      6    2010        WD         Normal  \n",
      "1   12500      6    2010        WD         Normal  \n",
      "2       0      3    2010        WD         Normal  \n",
      "3       0      6    2010        WD         Normal  \n",
      "4       0      1    2010        WD         Normal  \n",
      "\n",
      "[5 rows x 80 columns]\n"
     ]
    }
   ],
   "source": [
    "# Print the data shapes.\n",
    "print('Train data shape:')\n",
    "print(train.shape)\n",
    "print('---')\n",
    "print('Test data shape:')\n",
    "print(test.shape)\n",
    "print('')\n",
    "\n",
    "# Print the data types\n",
    "print('Train data types:')\n",
    "print(train.dtypes)\n",
    "print('---')\n",
    "print('Test data types:')\n",
    "print(test.dtypes)\n",
    "print('')\n",
    "\n",
    "# Print a few rows of both data sets\n",
    "print('Train data sample:')\n",
    "print(train.head(5))\n",
    "print('---')\n",
    "print('Test data sample:')\n",
    "print(test.head(5))\n"
   ]
  },
  {
   "cell_type": "markdown",
   "metadata": {},
   "source": [
    "The train data has one more column than the test, which is dependant variable. Otherwise the data sets have the same columns and are close to the same size. There is a mix of categorical and numeric data. Some of the categorical data is ordinal and some is not.\n",
    "\n",
    "It's obvious that the data needs some work, here is what I see right now:\n",
    "\n",
    "* The Id column is just a counter and is not needed.\n",
    "* Some of the categorical data is represented numerically. This might be okay if it is ordinal, but requires follow up.\n",
    "* Some of the categorical data is ordinal and needs to be encoded.\n",
    "* There is missing data.\n",
    "* There are a couple combo-features that may be useful.\n",
    "\n",
    "I will need to address each of these data issues. I'll delete the Id column now then work on imputing the missing data before addressing the other issues.\n"
   ]
  },
  {
   "cell_type": "code",
   "execution_count": 3,
   "metadata": {},
   "outputs": [],
   "source": [
    "# Delete the unnecessary Id column from both data sets\n",
    "del train['Id']\n",
    "del test['Id']\n"
   ]
  },
  {
   "cell_type": "markdown",
   "metadata": {},
   "source": [
    "### 2.3 The target variable\n",
    "The target variable, SalePrice, is a discrete numerical value. I'll look at the distribution of the data.\n"
   ]
  },
  {
   "cell_type": "code",
   "execution_count": 4,
   "metadata": {},
   "outputs": [
    {
     "data": {
      "image/png": "[encoded data removed]",
      "text/plain": [
       "<Figure size 432x288 with 1 Axes>"
      ]
     },
     "metadata": {},
     "output_type": "display_data"
    }
   ],
   "source": [
    "# Create histogram of sales prices.\n",
    "plt.hist(train['SalePrice'], bins=30)\n",
    "plt.title('Distribution of Sale Prices')\n",
    "plt.show()\n"
   ]
  },
  {
   "cell_type": "markdown",
   "metadata": {},
   "source": [
    "The distribution is a bit right skewed. A skewed distribution can make any outliers have too much influence and reduce the accuracy of the model. I'll perform a lof-transformation on the target variable to make the distribution more normal.\n"
   ]
  },
  {
   "cell_type": "code",
   "execution_count": 5,
   "metadata": {},
   "outputs": [
    {
     "data": {
      "image/png": "[encoded data removed]",
      "text/plain": [
       "<Figure size 432x288 with 1 Axes>"
      ]
     },
     "metadata": {},
     "output_type": "display_data"
    }
   ],
   "source": [
    "# Create a new column in the train data set for a log transformation of SalePrice\n",
    "train['LogSalePrice'] = np.log(train['SalePrice'])\n",
    "\n",
    "# Create histogram of Log sales prices to see the new distribution.\n",
    "plt.hist(train['LogSalePrice'], bins=30)\n",
    "plt.title('Distribution of Log Sale Prices')\n",
    "plt.show()\n"
   ]
  },
  {
   "cell_type": "markdown",
   "metadata": {},
   "source": [
    "This distribution looks much more normal than the original. To make sure it actually is normal I will create a Q-Q plot."
   ]
  },
  {
   "cell_type": "code",
   "execution_count": 6,
   "metadata": {},
   "outputs": [
    {
     "data": {
      "text/plain": [
       "((array([-3.30513952, -3.04793228, -2.90489705, ...,  2.90489705,\n",
       "          3.04793228,  3.30513952]),\n",
       "  array([10.46024211, 10.47194981, 10.54270639, ..., 13.34550693,\n",
       "         13.5211395 , 13.53447303])),\n",
       " (0.3982622308161888, 12.024050901109383, 0.9953761475636613))"
      ]
     },
     "execution_count": 6,
     "metadata": {},
     "output_type": "execute_result"
    },
    {
     "data": {
      "image/png": "[encoded data removed]",
      "text/plain": [
       "<Figure size 432x288 with 1 Axes>"
      ]
     },
     "metadata": {},
     "output_type": "display_data"
    }
   ],
   "source": [
    "# Create a Q-Q plot to test for normality of the distribution\n",
    "stats.probplot(train['LogSalePrice'], dist=\"norm\", plot=plt)\n"
   ]
  },
  {
   "cell_type": "markdown",
   "metadata": {},
   "source": [
    "Based on the Q-Q plot, the distribution is normal. I will continue my regression using the LogSalePrice, and will delete the SalePrice from my dataset. With a Log transform my regression algorithm will give me LogSalePrice as an output so I'll need to remember to transform those values back to SalePrice before submission.\n",
    "\n",
    "There looks to be some departures from normality at the ends of the Q-Q plot line so I'll check for outliers using a z-score test.\n",
    "\n",
    "The z-score gives an observation's position in relation to the mean of the values in terms of standard deviations. A z-score of 0 means the observation is right at the mean and a z-score of 1 means that observation is 1 standard deviation above the mean. According to the 68-95-99.7 rule, 99.7% of the values will be within 3 standard deviations of the mean for a normal distribution.\n",
    "\n",
    "I will consider any observation more than 3 standard deviations from the mean an outlier and remove it form the data. In order to determine which observations are outliers I'll write a short function to identify the outliers.\n"
   ]
  },
  {
   "cell_type": "code",
   "execution_count": 7,
   "metadata": {},
   "outputs": [
    {
     "name": "stdout",
     "output_type": "stream",
     "text": [
      "[10.596634733096073, 13.226723392728571, 10.460242108190519, 10.578979797857352, 13.534473028231162, 13.275827535915461, 13.323926946863102, 10.47194980911048, 10.542706391070517, 13.229567991666638, 13.345506928718539, 13.521139497361697]\n"
     ]
    }
   ],
   "source": [
    "# Delete original SalePrice column from the train dataset\n",
    "del train['SalePrice']\n",
    "\n",
    "# create a function to perform a z-test and returns any outliers.\n",
    "def z_outlier(array):\n",
    "    \"\"\"takes an array of numbers calculates the z-score and returns the numbers with a z-score greater than 3\"\"\"\n",
    "    array_mean = np.mean(array)\n",
    "    std_dev = np.std(array)\n",
    "    outliers = []\n",
    "    for i in array:\n",
    "        if ((i - array_mean)/std_dev) > 3:\n",
    "            outliers.append(i)\n",
    "        elif ((i - array_mean)/std_dev) < -3:\n",
    "            outliers.append(i)\n",
    "    return outliers\n",
    "\n",
    "# Save outliers in list\n",
    "outl = z_outlier(train['LogSalePrice'])\n",
    "print(outl)\n"
   ]
  },
  {
   "cell_type": "markdown",
   "metadata": {},
   "source": [
    "The z-score test has identified 12 outliers. I'll remove these outliers from the data set.\n"
   ]
  },
  {
   "cell_type": "code",
   "execution_count": 8,
   "metadata": {},
   "outputs": [],
   "source": [
    "# remove the outliers from the train data set\n",
    "for outlier in outl:\n",
    "    train = train[train.LogSalePrice != outlier]\n",
    "    "
   ]
  },
  {
   "cell_type": "markdown",
   "metadata": {},
   "source": [
    "Continuing with my exploration of the data I want to look at how each feature correlates to the target value. Before creating the correlation matrix there are 3 combination features I want to create.\n",
    "\n",
    "Several of the features, to me, seem like one feature broken down into several sub categories. When I shop for a house I look at the number of bathrooms - I don't look at the number of bathrooms by floor so it makes sense to me that a single feature for number of bathrooms would be more valuable than individual features for bathroom location. The 3 new features will be TotalSF, TotalBath and YrFromRemod, representing the total square footage, total number of bathrooms and number of years from the last remodel (using 2011 as the year)."
   ]
  },
  {
   "cell_type": "code",
   "execution_count": 9,
   "metadata": {},
   "outputs": [],
   "source": [
    "# Create 3 bew combo features in both the train and test data sets: TotalSF, YrFromRemod and TotalBath representing\n",
    "# the total square footage of the house, the number of years since the last remodel and the total number of\n",
    "# bathrooms.\n",
    "# Train data\n",
    "train['TotalSF'] = train['TotalBsmtSF'] + train['1stFlrSF'] + train['2ndFlrSF']\n",
    "\n",
    "train['YrFromRemod'] = (2011 - train['YearRemodAdd'])\n",
    "\n",
    "train['TotalBath'] = train['BsmtFullBath'] + (train['BsmtHalfBath']/2) + train['FullBath'] \\\n",
    "+ (train['HalfBath']/2)\n",
    "\n",
    "# Test data\n",
    "test['TotalSF'] = test['TotalBsmtSF'] + test['1stFlrSF'] + test['2ndFlrSF']\n",
    "\n",
    "test['YrFromRemod'] = (2011 - test['YearRemodAdd'])\n",
    "\n",
    "test['TotalBath'] = test['BsmtFullBath'] + (test['BsmtHalfBath']/2) + test['FullBath'] \\\n",
    "+ (test['HalfBath']/2)\n"
   ]
  },
  {
   "cell_type": "markdown",
   "metadata": {},
   "source": [
    "With my new features added to the dataset I'll look at how each feature correlates to the LogSalePrice.\n"
   ]
  },
  {
   "cell_type": "code",
   "execution_count": 10,
   "metadata": {},
   "outputs": [
    {
     "name": "stdout",
     "output_type": "stream",
     "text": [
      "MSSubClass      -0.081231\n",
      "LotFrontage      0.335597\n",
      "LotArea          0.253800\n",
      "OverallQual      0.808986\n",
      "OverallCond     -0.049543\n",
      "YearBuilt        0.586730\n",
      "YearRemodAdd     0.563476\n",
      "MasVnrArea       0.415172\n",
      "BsmtFinSF1       0.355864\n",
      "BsmtFinSF2      -0.001230\n",
      "BsmtUnfSF        0.218351\n",
      "TotalBsmtSF      0.596140\n",
      "1stFlrSF         0.577144\n",
      "2ndFlrSF         0.306183\n",
      "LowQualFinSF    -0.039650\n",
      "GrLivArea        0.687467\n",
      "BsmtFullBath     0.239638\n",
      "BsmtHalfBath    -0.016183\n",
      "FullBath         0.582427\n",
      "HalfBath         0.305932\n",
      "BedroomAbvGr     0.192054\n",
      "KitchenAbvGr    -0.154976\n",
      "TotRmsAbvGrd     0.514748\n",
      "Fireplaces       0.481892\n",
      "GarageYrBlt      0.541007\n",
      "GarageCars       0.674320\n",
      "GarageArea       0.644909\n",
      "WoodDeckSF       0.333106\n",
      "OpenPorchSF      0.350378\n",
      "EnclosedPorch   -0.143931\n",
      "3SsnPorch        0.058304\n",
      "ScreenPorch      0.115038\n",
      "PoolArea         0.039009\n",
      "MiscVal         -0.020830\n",
      "MoSold           0.076677\n",
      "YrSold          -0.037880\n",
      "LogSalePrice     1.000000\n",
      "TotalSF          0.766893\n",
      "YrFromRemod     -0.563476\n",
      "TotalBath        0.664563\n",
      "Name: LogSalePrice, dtype: float64\n"
     ]
    }
   ],
   "source": [
    "# calculate correlations and print correlations to the target variable\n",
    "target_corr = train.corr()\n",
    "print(target_corr['LogSalePrice'].head(80))\n"
   ]
  },
  {
   "cell_type": "markdown",
   "metadata": {},
   "source": [
    "It looks like the things you normally look for when house shopping: lot size, house square footage, number of bathrooms and overall quality are most highly correlated to the sale price.\n",
    "\n",
    "The 3 combination features I created all look to have somewhat high correlations to the LogSalePrice.\n",
    "\n",
    "If I was writing the regression model by hand this might be a good moment to think about feature selection and possibly removing some variables from the dataset. With Machine learning I am allowing the model to do the feature selection for me, so it is unnecessary in this setting.\n"
   ]
  },
  {
   "cell_type": "markdown",
   "metadata": {},
   "source": [
    "## 3. Data Pre-Processing\n",
    "Now that I have a better understanding of the types of data I am working with, I can start preparing the data for model building. With machine learning the variables need to be put in a format that the computer can understand. This process involves cleaning, encoding and tranforming the data. I have already identified a few issues to work on so I'll start with data cleaning.\n",
    "\n",
    "### 3.1 Missing data\n",
    "I previously identified that the data sets have missing data. First I'll look to see what is missing and how much of it is missing, then determine how to approach the issue.\n"
   ]
  },
  {
   "cell_type": "code",
   "execution_count": 11,
   "metadata": {
    "scrolled": true
   },
   "outputs": [
    {
     "name": "stdout",
     "output_type": "stream",
     "text": [
      "Train missing data:\n",
      "PoolQC          1442\n",
      "MiscFeature     1394\n",
      "Alley           1358\n",
      "Fence           1171\n",
      "FireplaceQu      685\n",
      "LotFrontage      259\n",
      "GarageCond        78\n",
      "GarageYrBlt       78\n",
      "GarageType        78\n",
      "GarageFinish      78\n",
      "GarageQual        78\n",
      "BsmtExposure      37\n",
      "BsmtFinType2      37\n",
      "BsmtQual          36\n",
      "BsmtCond          36\n",
      "BsmtFinType1      36\n",
      "MasVnrArea         8\n",
      "MasVnrType         8\n",
      "Electrical         1\n",
      "BldgType           0\n",
      "dtype: int64\n",
      "---\n",
      "Test missing data:\n",
      "PoolQC          1456\n",
      "MiscFeature     1408\n",
      "Alley           1352\n",
      "Fence           1169\n",
      "FireplaceQu      730\n",
      "LotFrontage      227\n",
      "GarageQual        78\n",
      "GarageCond        78\n",
      "GarageFinish      78\n",
      "GarageYrBlt       78\n",
      "GarageType        76\n",
      "BsmtCond          45\n",
      "BsmtExposure      44\n",
      "BsmtQual          44\n",
      "BsmtFinType1      42\n",
      "BsmtFinType2      42\n",
      "MasVnrType        16\n",
      "MasVnrArea        15\n",
      "MSZoning           4\n",
      "BsmtFullBath       2\n",
      "BsmtHalfBath       2\n",
      "TotalBath          2\n",
      "Functional         2\n",
      "Utilities          2\n",
      "GarageCars         1\n",
      "Exterior1st        1\n",
      "TotalSF            1\n",
      "SaleType           1\n",
      "KitchenQual        1\n",
      "BsmtFinSF1         1\n",
      "BsmtFinSF2         1\n",
      "BsmtUnfSF          1\n",
      "TotalBsmtSF        1\n",
      "Exterior2nd        1\n",
      "GarageArea         1\n",
      "LotArea            0\n",
      "dtype: int64\n"
     ]
    }
   ],
   "source": [
    "# Identify the missing data\n",
    "train_mis = train.isnull().sum().sort_values(ascending=False)\n",
    "test_mis = test.isnull().sum().sort_values(ascending=False)\n",
    "\n",
    "print('Train missing data:')\n",
    "print(train_mis.head(20))\n",
    "print('---')\n",
    "print('Test missing data:')\n",
    "print(test_mis.head(36))\n"
   ]
  },
  {
   "cell_type": "markdown",
   "metadata": {},
   "source": [
    "There is a lot of missing data. For PoolQC 99% is missing!\n",
    "\n",
    "A quick look at the data_description.txt file that comes with the data shows that an NA in PoolQC actually means that the house doesn't have a pool. None' would be more appropriate than NA because 0 is different than \"I don't know\". This same thing applies to several other variables.\n",
    "\n",
    "Additionally, several variables use NA when 0 would be more approriate. I'll start data imputation by correcting these issues.\n"
   ]
  },
  {
   "cell_type": "code",
   "execution_count": 12,
   "metadata": {},
   "outputs": [
    {
     "name": "stdout",
     "output_type": "stream",
     "text": [
      "Train missing data:\n",
      "LotFrontage    259\n",
      "Electrical       1\n",
      "BsmtCond         0\n",
      "dtype: int64\n",
      "---\n",
      "Test missing data:\n",
      "LotFrontage     227\n",
      "MSZoning          4\n",
      "TotalBath         2\n",
      "Utilities         2\n",
      "Functional        2\n",
      "Exterior2nd       1\n",
      "KitchenQual       1\n",
      "Exterior1st       1\n",
      "SaleType          1\n",
      "TotalSF           1\n",
      "BsmtFinType2      0\n",
      "dtype: int64\n"
     ]
    }
   ],
   "source": [
    "# Create lists of variables where NA's are to be replaced by either 'None' or 0.\n",
    "none_fill = ['PoolQC', 'MiscFeature', 'Alley', 'Fence', 'FireplaceQu', 'GarageQual', 'GarageCond', 'GarageFinish',\n",
    "             'GarageType', 'BsmtExposure', 'BsmtQual', 'BsmtCond', 'MasVnrType']\n",
    "\n",
    "zero_fill = ['GarageYrBlt', 'BsmtFinType2', 'BsmtFinType1', 'MasVnrArea', 'GarageCars', 'GarageArea', 'BsmtFinSF1',\n",
    "             'BsmtFinSF2', 'TotalBsmtSF', 'BsmtUnfSF', 'BsmtFullBath', 'BsmtHalfBath']\n",
    "\n",
    "# Replace NAs with appropriate 'None' or 0\n",
    "for var in none_fill:\n",
    "    train[var] = train[var].fillna('None')\n",
    "    test[var] = test[var].fillna('None')\n",
    "    \n",
    "for var in zero_fill:\n",
    "    train[var] = train[var].fillna(0)\n",
    "    test[var] = test[var].fillna(0)\n",
    "    \n",
    "# Re-assess the staus of missing values\n",
    "train_mis = train.isnull().sum().sort_values(ascending=False)\n",
    "test_mis = test.isnull().sum().sort_values(ascending=False)\n",
    "\n",
    "print('Train missing data:')\n",
    "print(train_mis.head(3))\n",
    "print('---')\n",
    "print('Test missing data:')\n",
    "print(test_mis.head(11))\n"
   ]
  },
  {
   "cell_type": "markdown",
   "metadata": {},
   "source": [
    "That fixed the majority of the issues. LotFrontage is the largest of the remaining missing values. I spent some time looking at the data and found that the LotFrontage value is very similar for houses within each neighborhood. For the missing LotFrontage values I will impute the median LotFrontage for the neighborhood in which the house resides.\n"
   ]
  },
  {
   "cell_type": "code",
   "execution_count": 13,
   "metadata": {},
   "outputs": [
    {
     "name": "stdout",
     "output_type": "stream",
     "text": [
      "Train missing data:\n",
      "Electrical    1\n",
      "RoofStyle     0\n",
      "dtype: int64\n",
      "---\n",
      "Test missing data:\n",
      "MSZoning        4\n",
      "TotalBath       2\n",
      "Functional      2\n",
      "Utilities       2\n",
      "SaleType        1\n",
      "KitchenQual     1\n",
      "Exterior2nd     1\n",
      "TotalSF         1\n",
      "Exterior1st     1\n",
      "BsmtFinType1    0\n",
      "dtype: int64\n"
     ]
    }
   ],
   "source": [
    "# Calculate the median LotFrontage, grouped by neighborhood, then impute the missing LotFrontage values.\n",
    "train['LotFrontage'] = train.groupby('Neighborhood')['LotFrontage'].transform(lambda x: x.fillna(x.median()))\n",
    "test['LotFrontage'] = test.groupby('Neighborhood')['LotFrontage'].transform(lambda x: x.fillna(x.median()))\n",
    "\n",
    "# Re-assess the staus of missing values\n",
    "train_mis = train.isnull().sum().sort_values(ascending=False)\n",
    "test_mis = test.isnull().sum().sort_values(ascending=False)\n",
    "\n",
    "print('Train missing data:')\n",
    "print(train_mis.head(2))\n",
    "print('---')\n",
    "print('Test missing data:')\n",
    "print(test_mis.head(10))\n"
   ]
  },
  {
   "cell_type": "markdown",
   "metadata": {},
   "source": [
    "I am now down to just a handful of missing values. These will need to be assessed one-by-one.\n",
    "\n",
    "Electrical:\n",
    "\n",
    "The missing elecrtical value is for a house built in 2006. All houses in the data set built after 1965 have 'SBrkr' electrical."
   ]
  },
  {
   "cell_type": "code",
   "execution_count": 14,
   "metadata": {},
   "outputs": [],
   "source": [
    "train['Electrical'] = train['Electrical'].fillna('SBrkr')\n"
   ]
  },
  {
   "cell_type": "markdown",
   "metadata": {},
   "source": [
    "MSZoning:\n",
    "\n",
    "For zoning the same reasoning I used for LotFrontage holds true - neighborhoods tend to have the same zoning. The only difference is I will use mode, rather than median since it's categorical."
   ]
  },
  {
   "cell_type": "code",
   "execution_count": 15,
   "metadata": {},
   "outputs": [],
   "source": [
    "test['MSZoning'] = test.groupby('Neighborhood')['MSZoning'].transform(lambda x: x.fillna(x.mode()[0]))\n"
   ]
  },
  {
   "cell_type": "markdown",
   "metadata": {},
   "source": [
    "Functional:\n",
    "\n",
    "94% of the data in the test set has a Functional classification of Typ and there weren't any obvious ways to group the non-Typ homes so I will impute Typ for these missing vlaues.\n"
   ]
  },
  {
   "cell_type": "code",
   "execution_count": 16,
   "metadata": {},
   "outputs": [],
   "source": [
    "# Impute 'Typ' for missing Functional values\n",
    "test['Functional'] = test['Functional'].fillna('Typ')\n"
   ]
  },
  {
   "cell_type": "markdown",
   "metadata": {},
   "source": [
    "Utilites:\n",
    "\n",
    "There is only one category in this field and only 2 observations that have NA. This variable will not have any predictive power in a model so I will just delete Utilities:\n"
   ]
  },
  {
   "cell_type": "code",
   "execution_count": 17,
   "metadata": {},
   "outputs": [],
   "source": [
    "# Delete the 'Utilities' variable from both the train and test data sets\n",
    "del train['Utilities']\n",
    "del test['Utilities']\n"
   ]
  },
  {
   "cell_type": "markdown",
   "metadata": {},
   "source": [
    "Exterior1st:\n",
    "\n",
    "We have just one observation missing this variable. The home with the missing variable was built in 1940, remodeled in 2007 and is in the Edwards neighborhood. I don't see any obvious correlations between any of these variables and Exterior1st so I will impute the most common variable in this field"
   ]
  },
  {
   "cell_type": "code",
   "execution_count": 18,
   "metadata": {},
   "outputs": [],
   "source": [
    "# Impute the mode of the 'Exterior1st' variable for the missing value\n",
    "test['Exterior1st'] = test['Exterior1st'].fillna(test['Exterior1st'].mode()[0])\n"
   ]
  },
  {
   "cell_type": "markdown",
   "metadata": {},
   "source": [
    "SaleType:\n",
    "\n",
    "There is a single SaleType variable missing. I do not see any obvious relationships between this and any other variables so I will impute the mode of the SaleType variable.\n"
   ]
  },
  {
   "cell_type": "code",
   "execution_count": 19,
   "metadata": {},
   "outputs": [],
   "source": [
    "# Impute the mode of the 'SaleType' variable for the missing value\n",
    "test['SaleType'] = test['SaleType'].fillna(test['SaleType'].mode()[0])\n"
   ]
  },
  {
   "cell_type": "markdown",
   "metadata": {},
   "source": [
    "Exterior2nd:\n",
    "\n",
    "The single missing observation for this variable is the same observation that was missing the Exterior1st variable. I will use the same technique for imputation on this variable as I did with Exterior1st."
   ]
  },
  {
   "cell_type": "code",
   "execution_count": 20,
   "metadata": {},
   "outputs": [],
   "source": [
    "# Impute the mode of the 'Exterior2nd' variable for the missing value\n",
    "test['Exterior2nd'] = test['Exterior2nd'].fillna(test['Exterior2nd'].mode()[0])\n"
   ]
  },
  {
   "cell_type": "markdown",
   "metadata": {},
   "source": [
    "KitchenQual:\n",
    "\n",
    "This is another single missing observation. I will impute the mode of the KitchenQual variable."
   ]
  },
  {
   "cell_type": "code",
   "execution_count": 21,
   "metadata": {},
   "outputs": [],
   "source": [
    "# Impute the mode of the 'KitchenQual' variable for the missing value\n",
    "test['KitchenQual'] = test['KitchenQual'].fillna(test['KitchenQual'].mode()[0])\n"
   ]
  },
  {
   "cell_type": "markdown",
   "metadata": {},
   "source": [
    "TotalBath and TotalSF:\n",
    "\n",
    "These are two of the combination features I had made. They are missing becuase I created these features before imputing the 0's in for NA's on some of the data. I just need to re-run the same code that created the features in the first place.\n"
   ]
  },
  {
   "cell_type": "code",
   "execution_count": 22,
   "metadata": {},
   "outputs": [
    {
     "name": "stdout",
     "output_type": "stream",
     "text": [
      "Train missing data:\n",
      "TotalBath      0\n",
      "RoofMatl       0\n",
      "Exterior2nd    0\n",
      "MasVnrType     0\n",
      "MasVnrArea     0\n",
      "dtype: int64\n",
      "---\n",
      "Test missing data:\n",
      "TotalBath      0\n",
      "CentralAir     0\n",
      "Exterior1st    0\n",
      "Exterior2nd    0\n",
      "MasVnrType     0\n",
      "dtype: int64\n"
     ]
    }
   ],
   "source": [
    "# Re-run the code to create the missing combination features\n",
    "test['TotalSF'] = test['TotalBsmtSF'] + test['1stFlrSF'] + test['2ndFlrSF']\n",
    "\n",
    "test['TotalBath'] = test['BsmtFullBath'] + (test['BsmtHalfBath']/2) + test['FullBath'] \\\n",
    "+ (test['HalfBath']/2)\n",
    "\n",
    "# Re-assess the staus of missing values\n",
    "train_mis = train.isnull().sum().sort_values(ascending=False)\n",
    "test_mis = test.isnull().sum().sort_values(ascending=False)\n",
    "\n",
    "print('Train missing data:')\n",
    "print(train_mis.head(5))\n",
    "print('---')\n",
    "print('Test missing data:')\n",
    "print(test_mis.head(5))"
   ]
  },
  {
   "cell_type": "markdown",
   "metadata": {},
   "source": [
    "### 3.2 Ordinal data\n",
    "Now that missing data is taken care of I can move on to makeing sure the different types of data are in the correct format.\n",
    "\n",
    "Ordinal data is treated differently from other categorical data because, as the name implies, the order of the data gives us additional information. I am going to encode the ordinal data so that we retain that additional information once I start making my model.\n",
    "\n",
    "During data examination I mentioned there is some categorical data that is represented numerically. I will convert these to string data types.\n"
   ]
  },
  {
   "cell_type": "code",
   "execution_count": 23,
   "metadata": {},
   "outputs": [],
   "source": [
    "# Create a list of the numerically represented categorical data\n",
    "numcat = ['MSSubClass','MoSold', 'YrSold']\n",
    "\n",
    "# Change the data type to string for each numerically represented ordinal data\n",
    "for var in numcat:\n",
    "    train[var] = train[var].apply(str)\n",
    "    test[var] = test[var].apply(str)\n",
    "    "
   ]
  },
  {
   "cell_type": "markdown",
   "metadata": {},
   "source": [
    "Encoding ordinal data assigns a number to each category. Since order matters I'll need to do this manually rather than letting the computer do it. If I were to use something like the sklearn ordinal encoder it would just apply a 1 to the first category it came across, then a 2 to the next and so on. This would screw up the order of the ordinal categories.\n"
   ]
  },
  {
   "cell_type": "code",
   "execution_count": 24,
   "metadata": {},
   "outputs": [],
   "source": [
    "# map ordered values to associated number\n",
    "ordinal_map = {\n",
    "    'ExterQual': {'Po': 1, 'Fa': 2, 'TA': 3, 'Gd': 4, 'Ex': 5},\n",
    "    'ExterCond': {'Po': 1, 'Fa': 2, 'TA': 3, 'Gd': 4, 'Ex': 5},\n",
    "    'BsmtQual': {'None': 1, 'Po':2, 'Fa': 3, 'TA': 4, 'Gd': 5, 'Ex': 6},\n",
    "    'BsmtCond': {'None': 1, 'Po':2, 'Fa': 3, 'TA': 4, 'Gd': 5, 'Ex': 6},\n",
    "    'BsmtExposure': {'None': 1, 'No': 2, 'Mn': 3, 'Av': 4, 'Gd': 5},\n",
    "    'BsmtFinType1': {'None': 1, 'Unf': 2, 'LwQ': 3, 'Rec': 4, 'BLQ': 5, 'ALQ': 6, 'GLQ': 7},\n",
    "    'BsmtFinType2': {'None': 1, 'Unf': 2, 'LwQ': 3, 'Rec': 4, 'BLQ': 5, 'ALQ': 6, 'GLQ': 7},\n",
    "    'HeatingQC': {'Po': 1, 'Fa': 2, 'TA': 3, 'Gd': 4, 'Ex': 5},\n",
    "    'CentralAir': {'N': 1, 'Y': 2},\n",
    "    'KitchenQual': {'Po': 1, 'Fa': 2, 'TA': 3, 'Gd': 4, 'Ex': 5},\n",
    "    'Functional': {'Sal': 1, 'Sev': 2, 'Maj2': 3, 'Maj1': 4, 'Mod': 5, 'Min2': 6, 'Min1': 7, 'Typ': 8},\n",
    "    'FireplaceQu': {'None': 1, 'Po':2, 'Fa': 3, 'TA': 4, 'Gd': 5, 'Ex': 6},\n",
    "    'GarageFinish': {'None': 1, 'Unf': 2, 'RFn': 3, 'Fin': 4},\n",
    "    'GarageQual': {'None': 1, 'Po':2, 'Fa': 3, 'TA': 4, 'Gd': 5, 'Ex': 6},\n",
    "    'GarageCond': {'None': 1, 'Po':2, 'Fa': 3, 'TA': 4, 'Gd': 5, 'Ex': 6},\n",
    "    'PoolQC': {'None': 1, 'Fa': 2, 'TA': 3, 'Gd': 4, 'Ex': 5},\n",
    "    }\n",
    "\n",
    "# replace the ordinal values with the new values\n",
    "train.replace(ordinal_map, inplace=True)\n",
    "test.replace(ordinal_map, inplace=True)\n"
   ]
  },
  {
   "cell_type": "markdown",
   "metadata": {},
   "source": [
    "### 3.3 Categorical data\n",
    "The non-ordinal categorical variables need to be encoded as well. Order is not important for the non-ordinal categorical data so I can treat it differently from the ordinal data. I will be one-hot encoding the categorical data. One-hot encoding creates a column for each category and has a binary indicator (0 or 1) on each observation for each category. One-hot encoding allows us to translate string categories (human readable) into numerical categories (computer readable) without implying an order to the categories.\n",
    "\n",
    "To one-hot encode the categorical variables I need to do a few things. First I need to combine the train and test data sets. If I were to one hot encode the data sets separately I would likely get a different number of columns and different column positions.The order which the categories appear in each dataset are different and all of the variables aren't present in both data sets. Before I can combine the datasets I need to remove the LogSalePrice dependant variable from the train data set so the train and test data have the same number of columns.\n"
   ]
  },
  {
   "cell_type": "code",
   "execution_count": 25,
   "metadata": {},
   "outputs": [
    {
     "name": "stdout",
     "output_type": "stream",
     "text": [
      "all_data shape:\n",
      "(2907, 81)\n"
     ]
    }
   ],
   "source": [
    "# Seperate the dependant variable from the train data\n",
    "train_y = train.pop('LogSalePrice')\n",
    "\n",
    "# Combine the train and test data\n",
    "all_data = pd.concat(objs=[train, test], axis=0)\n",
    "\n",
    "# View the size of the new data set\n",
    "print('all_data shape:')\n",
    "print(all_data.shape)\n"
   ]
  },
  {
   "cell_type": "markdown",
   "metadata": {},
   "source": [
    "With the train and test data combined, I need to separate the numerical and ordinal data from the categorical data. I do not want to one-hot encode the ordinal or numerical data.\n"
   ]
  },
  {
   "cell_type": "code",
   "execution_count": 26,
   "metadata": {},
   "outputs": [
    {
     "name": "stdout",
     "output_type": "stream",
     "text": [
      "num_all_data shape:\n",
      "(2907, 50)\n",
      "---\n",
      "cat_all_data shape:\n",
      "(2907, 31)\n"
     ]
    }
   ],
   "source": [
    "# Separate categorical and numerical data\n",
    "num_all_data = all_data.select_dtypes(include=[np.number])\n",
    "cat_all_data = all_data.select_dtypes(exclude=[np.number])\n",
    "\n",
    "# View the shape of the new data sets\n",
    "print('num_all_data shape:')\n",
    "print(num_all_data.shape)\n",
    "print('---')\n",
    "print('cat_all_data shape:')\n",
    "print(cat_all_data.shape)\n"
   ]
  },
  {
   "cell_type": "markdown",
   "metadata": {},
   "source": [
    "With the train and test data combined and the numerical and categorical variables separated I can one-hot encode the categorical variables using pandas.get_dummies.\n"
   ]
  },
  {
   "cell_type": "code",
   "execution_count": 27,
   "metadata": {},
   "outputs": [
    {
     "name": "stdout",
     "output_type": "stream",
     "text": [
      "cat_all_data shape\n",
      "(2907, 226)\n"
     ]
    }
   ],
   "source": [
    "# One-hot encode categorical variables\n",
    "cat_all_data = pd.get_dummies(cat_all_data)\n",
    "\n",
    "# View new data shape\n",
    "print('cat_all_data shape')\n",
    "print(cat_all_data.shape)\n"
   ]
  },
  {
   "cell_type": "markdown",
   "metadata": {},
   "source": [
    "One hot encoding made the dataset much larger. I went from 31 categorical variables to 226. Some of the variables are very sparse in usage. I'm going to remove those with fewer than 15 observations (used on fewer than ~0.5% of observations).\n"
   ]
  },
  {
   "cell_type": "code",
   "execution_count": 28,
   "metadata": {},
   "outputs": [
    {
     "name": "stdout",
     "output_type": "stream",
     "text": [
      "cat_all_data shape:\n",
      "(2907, 172)\n"
     ]
    }
   ],
   "source": [
    "# Delete columns with fewer than 15 observations\n",
    "for var in list(cat_all_data.columns.values):\n",
    "    if cat_all_data[var].sum() < 15:\n",
    "        del cat_all_data[var]\n",
    "        \n",
    "print('cat_all_data shape:')\n",
    "print(cat_all_data.shape)\n"
   ]
  },
  {
   "cell_type": "markdown",
   "metadata": {},
   "source": [
    "### 3.4 Numerical data\n",
    "Lastly, I'll be transforming the numeric data to a standarized format. Standardization takes each numerical variables and makes the mean of the those values 0 and the standard deviation 1. This puts all of the numeric values on the same scale. Standardization makes sense because we don't really care about what scale the values are on and it's a bit easier to have all the varibales on the same scale, while retaining their variance in relation to the other values.\n",
    "\n",
    "Right now my numeric dataset includes the ordinal data. I do not want to standardize the ordinal data because the standardization would be meaningless - with ordinal data the only thing that matters is the rank. After separating my ordinal data from my numeric, I'll standardize the numeric data and rebind the data together.\n"
   ]
  },
  {
   "cell_type": "code",
   "execution_count": 29,
   "metadata": {},
   "outputs": [],
   "source": [
    "# Make data frame of the ordinal data\n",
    "ord_all_data = num_all_data.filter(items=ordinal_map.keys())\n",
    "\n",
    "# Make list of numerical column headers\n",
    "num_cols = list(num_all_data.columns.values) - ordinal_map.keys()\n",
    "\n",
    "# Make df of only the numerical data\n",
    "num_all_data = num_all_data.filter(items=num_cols)\n"
   ]
  },
  {
   "cell_type": "markdown",
   "metadata": {},
   "source": [
    "The data is separated, so now to standardize the numerical data I'll use sklearn standard scaler.\n"
   ]
  },
  {
   "cell_type": "code",
   "execution_count": 30,
   "metadata": {},
   "outputs": [
    {
     "name": "stdout",
     "output_type": "stream",
     "text": [
      "num_all_data shape:\n",
      "(2907, 36)\n",
      "---\n",
      "   YearBuilt  WoodDeckSF  GrLivArea  HalfBath  EnclosedPorch  BsmtHalfBath  \\\n",
      "0   1.047503   -0.740977   0.427202  1.233699      -0.359345     -0.249490   \n",
      "1   0.154989    1.615832  -0.474595 -0.755410      -0.359345      3.825049   \n",
      "2   0.981390   -0.740977   0.580185  1.233699      -0.359345     -0.249490   \n",
      "3  -1.861429   -0.740977   0.441292 -0.755410       3.872831     -0.249490   \n",
      "4   0.948334    0.777504   1.409516  1.233699      -0.359345     -0.249490   \n",
      "\n",
      "   1stFlrSF  OpenPorchSF  BsmtFullBath  MasVnrArea  ...  PoolArea  BsmtFinSF1  \\\n",
      "0 -0.777076     0.204751      1.086972    0.543534  ... -0.060481    0.588350   \n",
      "1  0.266946    -0.704969     -0.818835   -0.570713  ... -0.060481    1.189439   \n",
      "2 -0.612501    -0.078605      1.086972    0.350246  ... -0.060481    0.102175   \n",
      "3 -0.507070    -0.182999      1.086972   -0.570713  ... -0.060481   -0.494494   \n",
      "4 -0.033918     0.547759      1.086972    1.419013  ... -0.060481    0.475646   \n",
      "\n",
      "   TotRmsAbvGrd  BsmtUnfSF  3SsnPorch  TotalBath  ScreenPorch  LotFrontage  \\\n",
      "0      0.999716  -0.934224  -0.103546   1.594707      -0.2852    -0.207996   \n",
      "1     -0.286202  -0.628959  -0.103546   0.352028      -0.2852     0.485351   \n",
      "2     -0.286202  -0.287245  -0.103546   1.594707      -0.2852    -0.069327   \n",
      "3      0.356757  -0.045766  -0.103546  -0.269311      -0.2852    -0.439112   \n",
      "4      1.642675  -0.159671  -0.103546   1.594707      -0.2852     0.670243   \n",
      "\n",
      "   OverallCond  YrFromRemod  \n",
      "0    -0.510545    -0.897335  \n",
      "1     2.186284     0.396804  \n",
      "2    -0.510545    -0.849404  \n",
      "3    -0.510545     0.684390  \n",
      "4    -0.510545    -0.753542  \n",
      "\n",
      "[5 rows x 36 columns]\n"
     ]
    }
   ],
   "source": [
    "# Standardize the numerical data\n",
    "scaler = StandardScaler()\n",
    "scaled_num_data = scaler.fit_transform(num_all_data)\n",
    "\n",
    "# Output is a numpy array and I want a pandas df. I'll first extract the column headers, then convert the numpyp\n",
    "# array to a pandas df then add the column headers back in\n",
    "col_names = list(num_all_data.columns.values)\n",
    "num_all_data = pd.DataFrame(scaled_num_data)\n",
    "num_all_data.columns = col_names\n",
    "\n",
    "# View a sample of the standardized data\n",
    "print('num_all_data shape:')\n",
    "print(num_all_data.shape)\n",
    "print('---')\n",
    "print(num_all_data.head(5))\n"
   ]
  },
  {
   "cell_type": "markdown",
   "metadata": {},
   "source": [
    "### 3.5 Finalizing Pre-processing\n",
    "I am almost ready to build the model, but before I do that I need to combine all the columns back together, check for high levels of covariation among variables and remove any highly correlated variables and re-separate the train and test sets.\n",
    "\n",
    "I'll start this process by putting the ordinal and numerical data back together.\n"
   ]
  },
  {
   "cell_type": "code",
   "execution_count": 31,
   "metadata": {
    "scrolled": true
   },
   "outputs": [
    {
     "name": "stdout",
     "output_type": "stream",
     "text": [
      "num_all_data shape:\n",
      "(2907, 36)\n",
      "---\n",
      "ord_all_data shape:\n",
      "(2907, 14)\n",
      "---\n",
      "cat_all_data shape:\n",
      "(2907, 172)\n",
      "---\n"
     ]
    }
   ],
   "source": [
    "# make sure the data sets all have the same number of rows\n",
    "print('num_all_data shape:')\n",
    "print(num_all_data.shape)\n",
    "print('---')\n",
    "print('ord_all_data shape:')\n",
    "print(ord_all_data.shape)\n",
    "print('---')\n",
    "print('cat_all_data shape:')\n",
    "print(cat_all_data.shape)\n",
    "print('---')\n",
    "\n",
    "# The row indices need to be reset for pd.concat to work\n",
    "num_all_data.reset_index(drop=True, inplace=True)\n",
    "ord_all_data.reset_index(drop=True, inplace=True)\n",
    "cat_all_data.reset_index(drop=True, inplace=True)\n",
    "\n",
    "# Combine the numeric and ordinal data sets\n",
    "numord = pd.concat([num_all_data, ord_all_data], axis=1)\n"
   ]
  },
  {
   "cell_type": "markdown",
   "metadata": {},
   "source": [
    "Now, I'll check for covariation. I want to remove variables that very high levels of covariance but I want to put a little bit of thought into it. For instance in image classification each feature is a pixel and neighboring pixels will likely be highly correlated, but removing that many features would wreck your model.\n",
    "\n",
    "I am going to look at the highly correlated variables and think about why they are highly correlated. If the variables represent the same underlying information then they are likely just doubling the power of a single piece of data.\n"
   ]
  },
  {
   "cell_type": "code",
   "execution_count": 32,
   "metadata": {},
   "outputs": [
    {
     "name": "stdout",
     "output_type": "stream",
     "text": [
      "YrFromRemod   YearRemodAdd   -1.000000\n",
      "YearRemodAdd  YrFromRemod    -1.000000\n",
      "KitchenQual   YrFromRemod    -0.612569\n",
      "YrFromRemod   KitchenQual    -0.612569\n",
      "YearBuilt     YrFromRemod    -0.609985\n",
      "YrFromRemod   YearBuilt      -0.609985\n",
      "ExterQual     YrFromRemod    -0.606265\n",
      "YrFromRemod   ExterQual      -0.606265\n",
      "              OverallQual    -0.569073\n",
      "OverallQual   YrFromRemod    -0.569073\n",
      "dtype: float64\n",
      "---\n",
      "PoolQC        PoolQC          1.000000\n",
      "GarageYrBlt   GarageCond      0.949011\n",
      "GarageArea    GarageCars      0.888818\n",
      "TotalSF       GrLivArea       0.862508\n",
      "FireplaceQu   Fireplaces      0.861641\n",
      "TotalSF       TotalBsmtSF     0.826535\n",
      "GrLivArea     TotRmsAbvGrd    0.807864\n",
      "1stFlrSF      TotalBsmtSF     0.797300\n",
      "TotalSF       1stFlrSF        0.789505\n",
      "BsmtFinType2  BsmtFinSF2      0.766760\n",
      "dtype: float64\n"
     ]
    }
   ],
   "source": [
    "# create correlation matrix and check for high correlations\n",
    "correl = numord.corr().unstack().sort_values()\n",
    "correl_rev = numord.corr().unstack().sort_values(ascending=False).drop_duplicates()\n",
    "print(correl.head(10))\n",
    "print('---')\n",
    "print(correl_rev.head(10))\n",
    "\n",
    "# Delete highly correlated features\n",
    "del numord['YearRemodAdd']\n",
    "del numord['GarageYrBlt']\n",
    "del numord['GarageArea']\n",
    "del numord['GrLivArea']\n",
    "del numord['FireplaceQu']\n",
    "del numord['TotalBsmtSF']\n"
   ]
  },
  {
   "cell_type": "markdown",
   "metadata": {},
   "source": [
    "I found 6 pairs of highly correlated variables that seemed to represent the same underlying data. For example GarageYrBlt and GarageCond both are likely descriptive of the condition of the garage. I chose to delete GarageYrBlt because it has a lower correlation value to LogSalePrice than GarageCond.\n",
    "\n",
    "Now I just need to add the categorical data back in, separate the train and test set and I am ready to build my model!"
   ]
  },
  {
   "cell_type": "code",
   "execution_count": 33,
   "metadata": {},
   "outputs": [
    {
     "name": "stdout",
     "output_type": "stream",
     "text": [
      "preproc_all_data shape:\n",
      "(2907, 216)\n",
      "---\n",
      "preproc_train shape:\n",
      "(1448, 216)\n",
      "---\n",
      "preproc_test shape:\n",
      "(1459, 216)\n",
      "---\n"
     ]
    }
   ],
   "source": [
    "# Combine the numerical, ordinal and categorical features\n",
    "preproc_all_data = pd.concat([numord, cat_all_data], axis=1)\n",
    "\n",
    "# Print new data set shape\n",
    "print('preproc_all_data shape:')\n",
    "print(preproc_all_data.shape)\n",
    "print('---')\n",
    "\n",
    "# Re-separate the train and test sets\n",
    "preproc_train = preproc_all_data[:len(train)]\n",
    "preproc_test = preproc_all_data[len(train):]\n",
    "\n",
    "# Check shape to make sure the sets were separated correctly\n",
    "print('preproc_train shape:')\n",
    "print(preproc_train.shape)\n",
    "print('---')\n",
    "print('preproc_test shape:')\n",
    "print(preproc_test.shape)\n",
    "print('---')\n"
   ]
  },
  {
   "cell_type": "markdown",
   "metadata": {},
   "source": [
    "## 4. Model Building\n",
    "I'll be stacking several regression methods (Ridge, Lasso, Elastic Net, XGBoost and Light Gradient Boosting) to try and get the best results without overfitting. \n",
    "\n",
    "Regression stacking takes several models, such as the five I'm using, makes predictions using each model then creates a new dataset of those predicitons. The dataset made up of those predictions is then put through a secondary regressor to get the final results. regression stacking is very computationally heavy so it is best used on smaller datasets.\n",
    "\n",
    "I'll be using k-fold cross validation with k=10 to evaluate and compare each model and I'll use the best performing model as the secondary regressor."
   ]
  },
  {
   "cell_type": "code",
   "execution_count": 34,
   "metadata": {},
   "outputs": [],
   "source": [
    "# k-fold cross validation method\n",
    "kfold = KFold(n_splits = 10, shuffle=True, random_state=1951)\n",
    "\n",
    "# The competition is on the RMSE so I'll create a function to get the CV RSME\n",
    "def cv_rmse(reg_mod, x, y):\n",
    "    return np.sqrt(-cross_val_score(reg_mod, x, y, scoring=\"neg_mean_squared_error\", cv=kfold))\n",
    "\n",
    "# Define the alphas to test\n",
    "rr_alphas = np.linspace(14, 16, 21)\n",
    "las_alphas = np.linspace(0.0001, 0.001, 10)\n",
    "enet_alphas = np.linspace(0.0001, 0.001, 10)\n",
    "\n",
    "\n",
    "# Create model pipelines\n",
    "rr = make_pipeline(RidgeCV(alphas=rr_alphas, cv=kfold))\n",
    "\n",
    "lasso = make_pipeline(LassoCV(max_iter=10000, alphas=las_alphas, random_state=1951, cv=kfold))\n",
    "\n",
    "enet = make_pipeline(ElasticNetCV(max_iter=10000, alphas=enet_alphas, cv=kfold))\n",
    "\n",
    "xgb = XGBRegressor(n_estimators=3000, max_depth=3, min_child_weight=1, subsample=0.75, colsample_bytree=0.5,\n",
    "                   nthread=-1, random_state=1951, objective='reg:squarederror')\n",
    "\n",
    "lgbm = LGBMRegressor(num_leaves=6, learning_rate=0.01, n_estimators=3000, max_bin=125, bagging_fraction=0.8,\n",
    "                     bagging_freq=5, bagging_seed=6, feature_fraction=0.2, feature_fraction_seed=6,verbose=-1)"
   ]
  },
  {
   "cell_type": "markdown",
   "metadata": {},
   "source": [
    "The model pipelines are built, I'll compare the scores (lower is better)."
   ]
  },
  {
   "cell_type": "code",
   "execution_count": 35,
   "metadata": {},
   "outputs": [
    {
     "name": "stdout",
     "output_type": "stream",
     "text": [
      "Ridge regression average RMSE:\n",
      "0.12895556451052964\n",
      "---\n",
      "Lasso regression average RMSE:\n",
      "0.1294129036344291\n",
      "---\n",
      "ElasticNet regression average RMSE:\n",
      "0.1288794920384742\n",
      "---\n",
      "XGBoost regression average RMSE:\n",
      "0.1139048586311368\n",
      "---\n",
      "LGBM regression average RMSE:\n",
      "0.10985568523322146\n"
     ]
    }
   ],
   "source": [
    "# Print the average cross validation RMSE for each model\n",
    "print('Ridge regression average RMSE:')\n",
    "print(cv_rmse(rr, preproc_train, train_y).mean())\n",
    "print('---')\n",
    "\n",
    "print('Lasso regression average RMSE:')\n",
    "print(cv_rmse(lasso, preproc_train, train_y).mean())\n",
    "print('---')\n",
    "      \n",
    "print('ElasticNet regression average RMSE:')\n",
    "print(cv_rmse(enet, preproc_train, train_y).mean())\n",
    "print('---')\n",
    "      \n",
    "print('XGBoost regression average RMSE:')\n",
    "print(cv_rmse(xgb, preproc_train, train_y).mean())\n",
    "print('---')\n",
    "\n",
    "print('LGBM regression average RMSE:')\n",
    "print(cv_rmse(lgbm, preproc_train, train_y).mean())\n"
   ]
  },
  {
   "cell_type": "markdown",
   "metadata": {},
   "source": [
    "The models are fit and the scores all look pretty good. LGBM gave me the best results so I'm going to use that as my secondary regressor and use all the models in my regression stack.\n",
    "\n",
    "I'll build my regression stack and try it out on the test data.\n"
   ]
  },
  {
   "cell_type": "code",
   "execution_count": 36,
   "metadata": {},
   "outputs": [
    {
     "name": "stdout",
     "output_type": "stream",
     "text": [
      "Stack RMSE on test:\n",
      "0.0035647909599203827\n"
     ]
    }
   ],
   "source": [
    "stack = StackingCVRegressor(regressors=[rr, lasso, enet, xgb, lgbm], meta_regressor=lgbm,\n",
    "                           use_features_in_secondary=True)\n",
    "\n",
    "stack.fit(np.array(preproc_train), np.array(train_y))\n",
    "stack_pred = stack.predict(np.array(preproc_train))\n",
    "\n",
    "print(\"Stack RMSE on test:\")\n",
    "print(mean_squared_error(train_y, stack_pred))\n"
   ]
  },
  {
   "cell_type": "markdown",
   "metadata": {},
   "source": [
    "Finally, fit the test data, create the submission csv and submit. Make sure to add the file path to where you would like the submission stored.\n"
   ]
  },
  {
   "cell_type": "code",
   "execution_count": 37,
   "metadata": {},
   "outputs": [],
   "source": [
    "stack_test_pred = stack.predict(np.array(preproc_test))\n",
    "\n",
    "predictions = np.exp(stack_test_pred)\n",
    "\n",
    "results = pd.DataFrame({'Id': np.arange(1461, 2920), 'SalePrice': predictions})\n",
    "\n",
    "results.to_csv('.../submission.csv', index=False)"
   ]
  }
 ],
 "metadata": {
  "kernelspec": {
   "display_name": "Python 3",
   "language": "python",
   "name": "python3"
  },
  "language_info": {
   "codemirror_mode": {
    "name": "ipython",
    "version": 3
   },
   "file_extension": ".py",
   "mimetype": "text/x-python",
   "name": "python",
   "nbconvert_exporter": "python",
   "pygments_lexer": "ipython3",
   "version": "3.6.9"
  }
 },
 "nbformat": 4,
 "nbformat_minor": 2
}
